{
 "cells": [
  {
   "cell_type": "code",
   "execution_count": 1,
   "metadata": {},
   "outputs": [
    {
     "name": "stdout",
     "output_type": "stream",
     "text": [
      "Loaded the libraries.\n",
      "[PhysicalDevice(name='/physical_device:CPU:0', device_type='CPU')]\n"
     ]
    }
   ],
   "source": [
    "\"\"\"This creates and trains a model given some random data. It can be\n",
    "used to test your installation of the relevant libraries.\n",
    "\"\"\"\n",
    "\n",
    "import numpy as np\n",
    "import tensorflow as tf\n",
    "import tensorflow_probability as tfp\n",
    "# from tensorflow.keras import callbacks as cb\n",
    "\n",
    "tfkl = tf.keras.layers\n",
    "tfpl = tfp.layers\n",
    "tfd = tfp.distributions\n",
    "print(\"Loaded the libraries.\")\n",
    "print(tf.config.list_physical_devices())\n",
    "MODEL_DIR = \"./test_model/\""
   ]
  },
  {
   "cell_type": "code",
   "execution_count": 2,
   "metadata": {},
   "outputs": [
    {
     "name": "stdout",
     "output_type": "stream",
     "text": [
      "(31109, 4, 2)\n",
      "N = 31109\n",
      "(31109, 4)\n",
      "(31109, 4)\n"
     ]
    }
   ],
   "source": [
    "# Generate random data\n",
    "\n",
    "data = np.load(\"data/training_data.npy\")\n",
    "print(data.shape)\n",
    "\n",
    "N = data.shape[0]\n",
    "print(f\"{N = }\")\n",
    "\n",
    "X = data[:, 0:2, :].reshape(N, 4)\n",
    "Y = data[:, 2:4, :].reshape(N, 4)\n",
    "\n",
    "Y_diff = data[:, 2:4, :] - data[:, 0:2, :] \n",
    "\n",
    "print(X.shape)\n",
    "print(Y.shape)"
   ]
  },
  {
   "cell_type": "code",
   "execution_count": 3,
   "metadata": {},
   "outputs": [
    {
     "name": "stdout",
     "output_type": "stream",
     "text": [
      "INFO:tensorflow:Using MirroredStrategy with devices ('/job:localhost/replica:0/task:0/device:CPU:0',)\n"
     ]
    },
    {
     "name": "stderr",
     "output_type": "stream",
     "text": [
      "WARNING:absl:At this time, the v2.11+ optimizer `tf.keras.optimizers.Adam` runs slowly on M1/M2 Macs, please use the legacy Keras optimizer instead, located at `tf.keras.optimizers.legacy.Adam`.\n"
     ]
    },
    {
     "name": "stdout",
     "output_type": "stream",
     "text": [
      "Built the model.\n",
      "Epoch 1/3\n"
     ]
    },
    {
     "name": "stderr",
     "output_type": "stream",
     "text": [
      "2024-03-24 09:32:02.293713: W tensorflow/core/framework/dataset.cc:959] Input of GeneratorDatasetOp::Dataset will not be optimized because the dataset does not implement the AsGraphDefInternal() method needed to apply optimizations.\n"
     ]
    },
    {
     "name": "stdout",
     "output_type": "stream",
     "text": [
      "778/778 - 2s - loss: -3.6014e-02 - val_loss: -1.6660e-01 - 2s/epoch - 2ms/step\n",
      "Epoch 2/3\n",
      "778/778 - 1s - loss: -9.0126e-01 - val_loss: -1.8200e-01 - 531ms/epoch - 683us/step\n",
      "Epoch 3/3\n",
      "778/778 - 1s - loss: -1.0233e+00 - val_loss: -3.2851e-01 - 524ms/epoch - 674us/step\n",
      "Trained the model.\n"
     ]
    }
   ],
   "source": [
    "# Make simple model\n",
    "\n",
    "mirrored_strategy = tf.distribute.MirroredStrategy()\n",
    "with mirrored_strategy.scope():\n",
    "    \n",
    "    # 15 here comes from the number of alphas, the number of mu's and the entries of the covariance matrix.\n",
    "    \n",
    "    model = tf.keras.Sequential(\n",
    "         [tfkl.Dense(32, activation='tanh'),\n",
    "         tfkl.Dense(2 * 15, activation=None),\n",
    "         tfpl.MixtureSameFamily(2, tfpl.MultivariateNormalTriL(4))])\n",
    "\n",
    "print(\"Built the model.\")\n",
    "\n",
    "\n",
    "# Train model\n",
    "\n",
    "def nll(data_point, tf_distribution):\n",
    "    \"\"\"Negative log likelihood.\"\"\"\n",
    "    return -tf_distribution.log_prob(data_point)\n",
    "\n",
    "\n",
    "LOSS = nll\n",
    "BATCH_SIZE = 32\n",
    "LEARNING_RATE = 1e-3\n",
    "EPOCHS = 3\n",
    "OPTIMISER = tf.keras.optimizers.Adam(learning_rate=LEARNING_RATE)\n",
    "VALIDATION_SPLIT = 0.2\n",
    "\n",
    "model.compile(loss=LOSS, optimizer=OPTIMISER)\n",
    "\n",
    "History = model.fit(\n",
    "    X,\n",
    "    Y,\n",
    "    epochs=EPOCHS,\n",
    "    batch_size=BATCH_SIZE,\n",
    "    shuffle=True,\n",
    "    validation_split=VALIDATION_SPLIT,\n",
    "    verbose=2,\n",
    ")\n",
    "print(\"Trained the model.\")"
   ]
  }
 ],
 "metadata": {
  "kernelspec": {
   "display_name": "venv",
   "language": "python",
   "name": "python3"
  },
  "language_info": {
   "codemirror_mode": {
    "name": "ipython",
    "version": 3
   },
   "file_extension": ".py",
   "mimetype": "text/x-python",
   "name": "python",
   "nbconvert_exporter": "python",
   "pygments_lexer": "ipython3",
   "version": "3.11.8"
  }
 },
 "nbformat": 4,
 "nbformat_minor": 2
}
